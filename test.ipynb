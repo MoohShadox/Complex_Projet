{
 "cells": [
  {
   "cell_type": "markdown",
   "metadata": {},
   "source": [
    "# Resultats statistiques"
   ]
  },
  {
   "cell_type": "code",
   "execution_count": 1,
   "metadata": {},
   "outputs": [],
   "source": [
    "import numpy as np\n",
    "from Graphe_OO.Graph import Graph\n",
    "from Graphe_OO.Algorithmes_Approches import AlgoMatrice\n",
    "from Graphe_OO.Heuristique_BAB_OO import *\n",
    "import pandas as pd\n",
    "import seaborn as sns"
   ]
  },
  {
   "cell_type": "code",
   "execution_count": 2,
   "metadata": {},
   "outputs": [],
   "source": [
    "from Graphe_Adjacence.Graph2 import Graph_A\n",
    "from Graphe_Adjacence.Algorithmes_Approches2 import AlgoAdjacence\n",
    "from Graphe_Adjacence.Heuristique_BAB import *"
   ]
  },
  {
   "cell_type": "code",
   "execution_count": 3,
   "metadata": {},
   "outputs": [],
   "source": [
    "file = r\"test2.txt\""
   ]
  },
  {
   "cell_type": "markdown",
   "metadata": {},
   "source": [
    "## Lecture graph"
   ]
  },
  {
   "cell_type": "markdown",
   "metadata": {},
   "source": [
    "### Matrice"
   ]
  },
  {
   "cell_type": "code",
   "execution_count": 4,
   "metadata": {
    "scrolled": false
   },
   "outputs": [
    {
     "name": "stdout",
     "output_type": "stream",
     "text": [
      "['0', '1', '2', '3', '4', '5', '6', '7', '8', '9']\n",
      "[[0. 0. 0. 0. 0. 0. 0. 0. 0. 0.]\n",
      " [0. 0. 1. 0. 0. 0. 1. 0. 1. 0.]\n",
      " [0. 1. 0. 1. 0. 0. 0. 0. 1. 0.]\n",
      " [0. 0. 1. 0. 0. 0. 0. 0. 0. 0.]\n",
      " [0. 0. 0. 0. 0. 1. 1. 0. 0. 1.]\n",
      " [0. 0. 0. 0. 1. 0. 0. 0. 0. 0.]\n",
      " [0. 1. 0. 0. 1. 0. 0. 1. 1. 1.]\n",
      " [0. 0. 0. 0. 0. 0. 1. 0. 0. 0.]\n",
      " [0. 1. 1. 0. 0. 0. 1. 0. 0. 1.]\n",
      " [0. 0. 0. 0. 1. 0. 1. 0. 1. 0.]]\n",
      "[('1', '2'), ('1', '6'), ('1', '8'), ('2', '3'), ('2', '8'), ('4', '5'), ('4', '6'), ('4', '9'), ('6', '7'), ('6', '8'), ('6', '9'), ('8', '9')]\n"
     ]
    }
   ],
   "source": [
    "\n",
    "G_Matrice = Graph(0, 0, file=file)\n",
    "\n",
    "print(G_Matrice.etiquettes)\n",
    "print(G_Matrice.adjacence)\n",
    "print(G_Matrice.arretes)"
   ]
  },
  {
   "cell_type": "markdown",
   "metadata": {},
   "source": [
    "### Adjacence"
   ]
  },
  {
   "cell_type": "code",
   "execution_count": 5,
   "metadata": {
    "scrolled": true
   },
   "outputs": [
    {
     "name": "stdout",
     "output_type": "stream",
     "text": [
      "10\n",
      "12\n",
      "{'0': [], '1': ['2', '6', '8'], '2': ['1', '3', '8'], '3': ['2'], '4': ['5', '6', '9'], '5': ['4'], '6': ['1', '4', '7', '8', '9'], '7': ['6'], '8': ['1', '2', '6', '9'], '9': ['4', '6', '8']}\n",
      "[('1', '2'), ('1', '6'), ('1', '8'), ('2', '3'), ('2', '8'), ('4', '5'), ('4', '6'), ('4', '9'), ('6', '7'), ('6', '8'), ('6', '9'), ('8', '9')]\n"
     ]
    }
   ],
   "source": [
    "\n",
    "G_Adjacent = Graph_A(0,0, file=file)\n",
    "\n",
    "print(G_Adjacent.n)\n",
    "print(G_Adjacent.m)\n",
    "print(G_Adjacent.adjacence_list)\n",
    "print(G_Adjacent.arretes)"
   ]
  },
  {
   "cell_type": "markdown",
   "metadata": {},
   "source": [
    "## Algo Glouton"
   ]
  },
  {
   "cell_type": "markdown",
   "metadata": {},
   "source": [
    "### Matrice"
   ]
  },
  {
   "cell_type": "code",
   "execution_count": 6,
   "metadata": {},
   "outputs": [
    {
     "name": "stdout",
     "output_type": "stream",
     "text": [
      "['6', '2', '4', '8']\n"
     ]
    }
   ],
   "source": [
    "print(AlgoMatrice.algo_glouton(G_Matrice))"
   ]
  },
  {
   "cell_type": "markdown",
   "metadata": {},
   "source": [
    "### Adjacence"
   ]
  },
  {
   "cell_type": "code",
   "execution_count": 7,
   "metadata": {},
   "outputs": [
    {
     "name": "stdout",
     "output_type": "stream",
     "text": [
      "['6', '2', '4', '8']\n"
     ]
    }
   ],
   "source": [
    "print(AlgoAdjacence.algo_glouton(G_Adjacent))"
   ]
  },
  {
   "cell_type": "markdown",
   "metadata": {},
   "source": [
    "## Algo Couplage"
   ]
  },
  {
   "cell_type": "markdown",
   "metadata": {},
   "source": [
    "### Matrice"
   ]
  },
  {
   "cell_type": "code",
   "execution_count": 8,
   "metadata": {},
   "outputs": [
    {
     "name": "stdout",
     "output_type": "stream",
     "text": [
      "['1', '2', '4', '5', '6', '7', '8', '9']\n"
     ]
    }
   ],
   "source": [
    "print(AlgoMatrice.algo_couplage(G_Matrice))"
   ]
  },
  {
   "cell_type": "markdown",
   "metadata": {},
   "source": [
    "### Adjacence"
   ]
  },
  {
   "cell_type": "code",
   "execution_count": 9,
   "metadata": {},
   "outputs": [
    {
     "name": "stdout",
     "output_type": "stream",
     "text": [
      "['1', '2', '4', '5', '6', '7', '8', '9']\n"
     ]
    }
   ],
   "source": [
    "print(AlgoAdjacence.algo_couplage(G_Adjacent))"
   ]
  },
  {
   "cell_type": "markdown",
   "metadata": {},
   "source": [
    "## Algo Branchement"
   ]
  },
  {
   "cell_type": "markdown",
   "metadata": {},
   "source": [
    "### Matrice"
   ]
  },
  {
   "cell_type": "markdown",
   "metadata": {},
   "source": [
    "#### Recursive"
   ]
  },
  {
   "cell_type": "code",
   "execution_count": 10,
   "metadata": {},
   "outputs": [
    {
     "name": "stdout",
     "output_type": "stream",
     "text": [
      "['2', '6', '8', '4']\n"
     ]
    }
   ],
   "source": [
    "print(AlgoMatrice.branchement(G_Matrice))"
   ]
  },
  {
   "cell_type": "markdown",
   "metadata": {},
   "source": [
    "#### Pile"
   ]
  },
  {
   "cell_type": "code",
   "execution_count": 11,
   "metadata": {},
   "outputs": [
    {
     "name": "stdout",
     "output_type": "stream",
     "text": [
      "['2', '6', '8', '4']\n"
     ]
    }
   ],
   "source": [
    "print(parcours_profondeur_NB_lite_OO(G_Matrice))"
   ]
  },
  {
   "cell_type": "markdown",
   "metadata": {},
   "source": [
    "### Adjacence"
   ]
  },
  {
   "cell_type": "code",
   "execution_count": 12,
   "metadata": {
    "scrolled": false
   },
   "outputs": [
    {
     "name": "stdout",
     "output_type": "stream",
     "text": [
      "['2', '6', '8', '4']\n"
     ]
    }
   ],
   "source": [
    "print(parcours_profondeur_NB_lite(G_Adjacent))"
   ]
  },
  {
   "cell_type": "markdown",
   "metadata": {},
   "source": [
    "## Algo Branchement Borné"
   ]
  },
  {
   "cell_type": "markdown",
   "metadata": {},
   "source": [
    "### Matrice"
   ]
  },
  {
   "cell_type": "code",
   "execution_count": 13,
   "metadata": {},
   "outputs": [
    {
     "name": "stdout",
     "output_type": "stream",
     "text": [
      "['2', '6', '8', '4']\n"
     ]
    }
   ],
   "source": [
    "print(parcours_profondeur_lite_OO(G_Matrice))"
   ]
  },
  {
   "cell_type": "markdown",
   "metadata": {},
   "source": [
    "### Adjacence"
   ]
  },
  {
   "cell_type": "code",
   "execution_count": 14,
   "metadata": {
    "scrolled": true
   },
   "outputs": [
    {
     "name": "stdout",
     "output_type": "stream",
     "text": [
      "['2', '6', '8', '4']\n"
     ]
    }
   ],
   "source": [
    "print(parcours_profondeur_lite(G_Adjacent))"
   ]
  },
  {
   "cell_type": "code",
   "execution_count": 15,
   "metadata": {},
   "outputs": [
    {
     "name": "stdout",
     "output_type": "stream",
     "text": [
      "['6', '2', '4', '8']\n"
     ]
    }
   ],
   "source": [
    "print(parcours_profondeur_lite_glouton(G_Adjacent))"
   ]
  },
  {
   "cell_type": "markdown",
   "metadata": {},
   "source": [
    "## Algo Branchement Borné Amélioré"
   ]
  },
  {
   "cell_type": "markdown",
   "metadata": {},
   "source": [
    "### Matrice"
   ]
  },
  {
   "cell_type": "code",
   "execution_count": 16,
   "metadata": {
    "scrolled": false
   },
   "outputs": [
    {
     "name": "stdout",
     "output_type": "stream",
     "text": [
      "['2', '6', '8', '4']\n"
     ]
    }
   ],
   "source": [
    "print(parcours_profondeur_lite_ameliore_1_OO(G_Matrice))\n"
   ]
  },
  {
   "cell_type": "code",
   "execution_count": 17,
   "metadata": {
    "scrolled": true
   },
   "outputs": [
    {
     "name": "stdout",
     "output_type": "stream",
     "text": [
      "['1', '4', '6', '2', '8']\n"
     ]
    }
   ],
   "source": [
    "print(parcours_profondeur_lite_ameliore_2(G_Adjacent))"
   ]
  },
  {
   "cell_type": "markdown",
   "metadata": {},
   "source": [
    "### Adjacence"
   ]
  },
  {
   "cell_type": "code",
   "execution_count": 18,
   "metadata": {
    "scrolled": false
   },
   "outputs": [
    {
     "name": "stdout",
     "output_type": "stream",
     "text": [
      "['2', '6', '8', '4']\n"
     ]
    }
   ],
   "source": [
    "print(parcours_profondeur_lite_ameliore_1(G_Adjacent))"
   ]
  },
  {
   "cell_type": "code",
   "execution_count": 19,
   "metadata": {
    "scrolled": true
   },
   "outputs": [
    {
     "name": "stdout",
     "output_type": "stream",
     "text": [
      "['1', '4', '6', '2', '8']\n"
     ]
    }
   ],
   "source": [
    "print(parcours_profondeur_lite_ameliore_2(G_Adjacent))"
   ]
  }
 ],
 "metadata": {
  "kernelspec": {
   "display_name": "Python 3",
   "language": "python",
   "name": "python3"
  },
  "language_info": {
   "codemirror_mode": {
    "name": "ipython",
    "version": 3
   },
   "file_extension": ".py",
   "mimetype": "text/x-python",
   "name": "python",
   "nbconvert_exporter": "python",
   "pygments_lexer": "ipython3",
   "version": "3.7.3"
  }
 },
 "nbformat": 4,
 "nbformat_minor": 2
}
